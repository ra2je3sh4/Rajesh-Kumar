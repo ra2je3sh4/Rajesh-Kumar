{
 "cells": [
  {
   "cell_type": "markdown",
   "id": "1cbd20b6",
   "metadata": {},
   "source": [
    "Q1\n",
    "* -expression\n",
    "'hello' -values\n",
    "-87.8 -values\n",
    "- -expression\n",
    "/ -expression\n",
    "+ -expression\n",
    "6 -values\n"
   ]
  },
  {
   "cell_type": "markdown",
   "id": "6a63525d",
   "metadata": {},
   "source": [
    "Q2\n",
    "String is data type.\n",
    "Variable is used to store data of different dat types"
   ]
  },
  {
   "cell_type": "markdown",
   "id": "9e6bc524",
   "metadata": {},
   "source": [
    "Q3\n",
    "integer, float, string"
   ]
  },
  {
   "cell_type": "markdown",
   "id": "083a694b",
   "metadata": {},
   "source": [
    "Q4\n",
    "Expression is mathematical operator which is used in mathematical operations."
   ]
  },
  {
   "cell_type": "markdown",
   "id": "82047436",
   "metadata": {},
   "source": [
    "Q5\n",
    "Statement is to assign any value to a variable.\n",
    "Expression is for doing mathematical operations using operators betwen numbers.\n"
   ]
  },
  {
   "cell_type": "code",
   "execution_count": null,
   "id": "5a7f6fa3",
   "metadata": {},
   "outputs": [],
   "source": [
    "Q6\n",
    "22"
   ]
  },
  {
   "cell_type": "markdown",
   "id": "5037e014",
   "metadata": {},
   "source": [
    "Q7.\n",
    "'spamspamspam'\n",
    "'spamspamspam'"
   ]
  },
  {
   "cell_type": "markdown",
   "id": "4244ce42",
   "metadata": {},
   "source": [
    "Q8.\n",
    "Because 100 is numeric value."
   ]
  }
 ],
 "metadata": {
  "kernelspec": {
   "display_name": "Python 3 (ipykernel)",
   "language": "python",
   "name": "python3"
  },
  "language_info": {
   "codemirror_mode": {
    "name": "ipython",
    "version": 3
   },
   "file_extension": ".py",
   "mimetype": "text/x-python",
   "name": "python",
   "nbconvert_exporter": "python",
   "pygments_lexer": "ipython3",
   "version": "3.9.12"
  }
 },
 "nbformat": 4,
 "nbformat_minor": 5
}
